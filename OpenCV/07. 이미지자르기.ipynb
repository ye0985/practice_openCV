{
 "cells": [
  {
   "cell_type": "markdown",
   "id": "5840663c",
   "metadata": {},
   "source": [
    "영역을 잘라서 새로운 윈도우창에 표시"
   ]
  },
  {
   "cell_type": "code",
   "execution_count": 1,
   "id": "a79a85d2",
   "metadata": {},
   "outputs": [],
   "source": [
    "import cv2\n",
    "\n",
    "img = cv2.imread('img.jpg')\n",
    "\n",
    "crop = img[100:200, 200:400] #세로기준100-200, 가로기준200-400까지 자름\n",
    "cv2.imshow('show', crop)\n",
    "key = cv2.waitKey(0)\n",
    "cv2.destroyAllWindows()"
   ]
  },
  {
   "cell_type": "markdown",
   "id": "71ee4e4f",
   "metadata": {},
   "source": [
    "영역을 잘라서 기존 윈도우창에 표시"
   ]
  },
  {
   "cell_type": "code",
   "execution_count": null,
   "id": "23d3dac1",
   "metadata": {},
   "outputs": [],
   "source": []
  }
 ],
 "metadata": {
  "kernelspec": {
   "display_name": "Python 3 (ipykernel)",
   "language": "python",
   "name": "python3"
  },
  "language_info": {
   "codemirror_mode": {
    "name": "ipython",
    "version": 3
   },
   "file_extension": ".py",
   "mimetype": "text/x-python",
   "name": "python",
   "nbconvert_exporter": "python",
   "pygments_lexer": "ipython3",
   "version": "3.9.13"
  }
 },
 "nbformat": 4,
 "nbformat_minor": 5
}
