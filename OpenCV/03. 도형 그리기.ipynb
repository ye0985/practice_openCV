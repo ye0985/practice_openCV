{
 "cells": [
  {
   "cell_type": "code",
   "execution_count": 4,
   "id": "f6410289",
   "metadata": {},
   "outputs": [],
   "source": [
    "#빈 스케치북 만들기\n",
    "import cv2\n",
    "import numpy as np\n",
    "\n",
    "#세로 480 가로 640 3channel BGR 의 스케치북 만들기\n",
    "img = np.zeros((480,640,3), dtype = np.uint8) #0으로 가득찬 , 검정색처럼 보임\n",
    "#img[:] = (255,255,255) #흰색\n",
    "img[:] = (255,0,0) #파란색\n",
    "img[:] = (0,153,0) #잔디밭색\n",
    "\n",
    "cv2.imshow('show',img) \n",
    "cv2.waitKey(0)\n",
    "cv2.destroyAllWindows()"
   ]
  },
  {
   "cell_type": "code",
   "execution_count": null,
   "id": "607c6991",
   "metadata": {},
   "outputs": [],
   "source": [
    "#일부 영역 색칠\n",
    "img = np.zeros((480,640,3), dtype = np.uint8) #0으로 가득찬 , 검정색처럼 보임\n",
    "img[100:200, 200:300] = (0,153,0) #세로, 가로 잔디밭색으로 채우기\n",
    "\n",
    "cv2.imshow('show',img)\n",
    "cv2.waitKey(0)\n",
    "cv2.destroyAllWindows()"
   ]
  },
  {
   "cell_type": "code",
   "execution_count": 1,
   "id": "be3a7ba8",
   "metadata": {},
   "outputs": [],
   "source": [
    "#직선\n",
    "#cv2.LINE_4 : 상하좌우 4방향으로 연결된 선\n",
    "#cv2.LINE_8 : 상하좌우 8방향으로 연결된 선\n",
    "#cv2.LINE_AA : 부드러운 선\n",
    "\n",
    "import cv2\n",
    "import numpy as np\n",
    "\n",
    "img = np.zeros((480,640,3), dtype = np.uint8) #0으로 가득찬 , 검정색처럼 보임\n",
    "\n",
    "color = (0,255,255) # bgr : yellow\n",
    "color2 = (255,0,255) # pink\n",
    "color3 = (255,255,0) #neon\n",
    "thickness = 3\n",
    "\n",
    "#그릴 곳, 시작xy좌표, 끝, 색깔, 두께, 라인종류\n",
    "cv2.line(img, (50,50), (100,100), color, thickness, cv2.LINE_4)\n",
    "cv2.line(img, (50,150), (100,200), color2, thickness, cv2.LINE_8)\n",
    "cv2.line(img, (50,250), (100,300), color3, thickness, cv2.LINE_AA)\n",
    "\n",
    "cv2.imshow('img',img) \n",
    "cv2.waitKey(0)\n",
    "cv2.destroyAllWindows()\n"
   ]
  },
  {
   "cell_type": "code",
   "execution_count": 1,
   "id": "e6490468",
   "metadata": {},
   "outputs": [],
   "source": [
    "#원\n",
    "import cv2\n",
    "import numpy as np\n",
    "\n",
    "img = np.zeros((480,640,3), dtype = np.uint8) #0으로 가득찬 , 검정색처럼 보임\n",
    "img[:] = (0,153,0) #잔디밭색\n",
    "\n",
    "color = (255,255,255)\n",
    "thickness = 3\n",
    "radius = 10 #반지름\n",
    "\n",
    "#그릴 곳, 원중심점, 반지름, 색깔, 두께, 라인종류\n",
    "cv2.circle(img, (50,50), radius, color, thickness, cv2.LINE_4)\n",
    "cv2.circle(img, (50,150), radius, color, cv2.FILLED, cv2.LINE_8) # cv2.FILLED 속 채우기\n",
    "\n",
    "cv2.imshow('img',img) \n",
    "cv2.waitKey(0)\n",
    "cv2.destroyAllWindows()"
   ]
  },
  {
   "cell_type": "code",
   "execution_count": 10,
   "id": "533b4737",
   "metadata": {},
   "outputs": [],
   "source": [
    "#사각형\n",
    "import cv2\n",
    "import numpy as np\n",
    "\n",
    "img = np.zeros((480,640,3), dtype = np.uint8) #0으로 가득찬 , 검정색처럼 보임\n",
    "\n",
    "color = (255,255,255) # bgr : white\n",
    "thickness = 3\n",
    "\n",
    "#그릴 곳, 왼쪽 위, 오른쪽아래, 색깔, 두께\n",
    "cv2.rectangle(img, (50,50), (100,100), color, thickness)\n",
    "cv2.rectangle(img, (50,150), (200,200), color, cv2.FILLED) # cv2.FILLED 속 채우기\n",
    "\n",
    "cv2.imshow('img',img) \n",
    "cv2.waitKey(0)\n",
    "cv2.destroyAllWindows()"
   ]
  },
  {
   "cell_type": "code",
   "execution_count": 21,
   "id": "855294f0",
   "metadata": {},
   "outputs": [],
   "source": [
    "#다각형\n",
    "import cv2\n",
    "import numpy as np\n",
    "\n",
    "img = np.zeros((480,640,3), dtype = np.uint8) #0으로 가득찬 , 검정색처럼 보임\n",
    "\n",
    "color = (255,255,255) # bgr : white\n",
    "thickness = 3\n",
    "\n",
    "pts1 = np.array([ [[100,100],[200,100],[100,200]] ])\n",
    "pts2 = np.array([ [[200,100],[300,100],[300,200]] ])\n",
    "\n",
    "#그릴 곳, 좌표, 닫힘여부, 색깔, 두께, 라인종류\n",
    "cv2.polylines(img, [pts1], True, color, thickness, cv2.LINE_AA) # TRUE: closed 시작점과 끝점 이은 닫힌 도형\n",
    "cv2.polylines(img, [pts2], False, color, thickness, cv2.LINE_AA) # False : 열린도형\n",
    "#cv2.polylines(img, [pts1,pts2], True, color, thickness, cv2.LINE_AA  # 그리길원하는 도형들 한 리스트에 넣기\n",
    "\n",
    "#꽉찬다각형\n",
    "#그릴 곳, 좌표, 색깔, 라인종류\n",
    "pts3 = np.array([[[100,300],[200,300],[100,400]],[[200,300],[300,300],[300,400]]])\n",
    "cv2.fillPoly(img, pts3, color, cv2.LINE_AA)\n",
    "\n",
    "cv2.imshow('img',img) \n",
    "cv2.waitKey(0)\n",
    "cv2.destroyAllWindows()"
   ]
  },
  {
   "cell_type": "code",
   "execution_count": null,
   "id": "a9229392",
   "metadata": {},
   "outputs": [],
   "source": []
  },
  {
   "cell_type": "code",
   "execution_count": null,
   "id": "7d18fc08",
   "metadata": {},
   "outputs": [],
   "source": []
  }
 ],
 "metadata": {
  "kernelspec": {
   "display_name": "Python 3 (ipykernel)",
   "language": "python",
   "name": "python3"
  },
  "language_info": {
   "codemirror_mode": {
    "name": "ipython",
    "version": 3
   },
   "file_extension": ".py",
   "mimetype": "text/x-python",
   "name": "python",
   "nbconvert_exporter": "python",
   "pygments_lexer": "ipython3",
   "version": "3.9.13"
  }
 },
 "nbformat": 4,
 "nbformat_minor": 5
}
