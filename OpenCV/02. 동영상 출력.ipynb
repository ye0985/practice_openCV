{
 "cells": [
  {
   "cell_type": "code",
   "execution_count": 2,
   "id": "c24d1360",
   "metadata": {},
   "outputs": [
    {
     "name": "stdout",
     "output_type": "stream",
     "text": [
      "사용자에 의해 종료됩니다\n"
     ]
    }
   ],
   "source": [
    "#동영상 출력 = 이미지 여러개를 출력\n",
    "\n",
    "import cv2\n",
    "\n",
    "cap = cv2.VideoCapture('video.mp4')\n",
    "\n",
    "while cap.isOpened() : # 동영상파일이 올바로 열렸는지\n",
    "    ret, frame = cap.read() # ret성공여부 frame받아온 이미지(프레임)\n",
    "    if not ret : #frame 다 열었으면\n",
    "        print('더이상 가져올 프레임이 없어요')\n",
    "        break\n",
    "    cv2.imshow('video',frame)\n",
    "    \n",
    "    if cv2.waitKey(1)==ord('q') : # 다음 이미지까지 1ms만 기다림 영상속도빠름 , 창에 q를 누르면 종료\n",
    "        print('사용자에 의해 종료됩니다')\n",
    "        break\n",
    "\n",
    "        \n",
    "cap.release() #자원해제\n",
    "cv2.destroyAllWindows() #모든 창 닫기\n",
    "        \n",
    "    \n",
    " "
   ]
  },
  {
   "cell_type": "code",
   "execution_count": null,
   "id": "6f2e820a",
   "metadata": {},
   "outputs": [],
   "source": [
    "#카메라 출력\n",
    "import cv2\n",
    "\n",
    "cap = cv2.VideoCapture(0) #0번째 카메라 장치 deivceID\n",
    "\n",
    "if not cap.isOpened() : #카메라가 안열리면\n",
    "    exit() #프로그램 종료\n",
    "    \n",
    "while TRUE : #무한반복\n",
    "    ret, frame = cap.read()\n",
    "    if not ret : \n",
    "        break\n",
    "    \n",
    "    cv2.imshow('camera', frame)\n",
    "    \n",
    "    if cv2.waitKey(1) == ord('q'):\n",
    "        print('사용자에 의해 종료됩니다')\n",
    "        break\n",
    "        \n",
    "cap.release()\n",
    "cv2.destroyAllWindows()"
   ]
  }
 ],
 "metadata": {
  "kernelspec": {
   "display_name": "Python 3 (ipykernel)",
   "language": "python",
   "name": "python3"
  },
  "language_info": {
   "codemirror_mode": {
    "name": "ipython",
    "version": 3
   },
   "file_extension": ".py",
   "mimetype": "text/x-python",
   "name": "python",
   "nbconvert_exporter": "python",
   "pygments_lexer": "ipython3",
   "version": "3.9.13"
  }
 },
 "nbformat": 4,
 "nbformat_minor": 5
}
