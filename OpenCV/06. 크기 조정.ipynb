{
 "cells": [
  {
   "cell_type": "markdown",
   "id": "dfe32e3d",
   "metadata": {},
   "source": [
    "## 이미지"
   ]
  },
  {
   "cell_type": "code",
   "execution_count": 1,
   "id": "26a2e0f1",
   "metadata": {},
   "outputs": [],
   "source": [
    "#고정크기로 설정\n",
    "import cv2\n",
    "\n",
    "img = cv2.imread('img.jpg')\n",
    "dts = cv2.resize(img,(400,500)) # width, height\n",
    "\n",
    "cv2.imshow('resize',dts)\n",
    "cv2.waitKey(0)\n",
    "cv2.destoyAllWindows()"
   ]
  },
  {
   "cell_type": "code",
   "execution_count": 2,
   "id": "8026ebdb",
   "metadata": {},
   "outputs": [],
   "source": [
    "#비율로 설정\n",
    "img = cv2.imread('img.jpg')\n",
    "dts = cv2.resize(img,None, fx=0.5,fy=0.5) # x,y 비율 정의  0.5배로 축소\n",
    "\n",
    "cv2.imshow('resize',dts)\n",
    "cv2.waitKey(0)\n",
    "cv2.destoyAllWindows()"
   ]
  },
  {
   "cell_type": "code",
   "execution_count": null,
   "id": "1dee112c",
   "metadata": {},
   "outputs": [],
   "source": []
  },
  {
   "cell_type": "code",
   "execution_count": null,
   "id": "82892dfc",
   "metadata": {},
   "outputs": [],
   "source": [
    "import cv2\n",
    "#보간법 적용 \n",
    "#cv2.INTER_AREA 이미지 크기 줄일떄\n",
    "#cv2.INTER_CUBIC 이미지 크기 늘일떄, 속도느림, 퀄리티좋음\n",
    "#cv2.INTER_LINEAR 이미지 크기 늘일떄, 기본값\n",
    "\n",
    "img = cv2.imread('img.jpg')\n",
    "dts = cv2.resize(img,None, fx=0.5,fy=0.5, interpolation = cv2.INTER_AREA) \n",
    "dts2 = cv2.resize(img,None, fx=1.5,fy=1.5, interpolation = cv2.INTER_CUBIC) \n",
    "dts3 = cv2.resize(img,None, fx=1.5,fy=1.5, interpolation = cv2.INTER_LINEAR) \n",
    "\n",
    "\n",
    "\n",
    "cv2.imshow('resize',dts)\n",
    "cv2.imshow('resize',dts2)\n",
    "cv2.imshow('resize',dts3)\n",
    "cv2.waitKey(0)\n",
    "cv2.destoyAllWindows()"
   ]
  },
  {
   "cell_type": "markdown",
   "id": "81ae9d8a",
   "metadata": {},
   "source": [
    "## 동영상"
   ]
  },
  {
   "cell_type": "code",
   "execution_count": 4,
   "id": "30e959bb",
   "metadata": {},
   "outputs": [],
   "source": [
    "import cv2\n",
    "\n",
    "cap = cv2.VideoCapture('video.mp4')\n",
    "\n",
    "while cap.isOpened() : \n",
    "    ret, frame = cap.read()\n",
    "    if not ret : \n",
    "        break\n",
    "        \n",
    "    frame_resize = cv2.resize(frame, (400,500))\n",
    "    cv2.imshow('video',frame_resize)\n",
    "    \n",
    "    if cv2.waitKey(1)==ord('q') : \n",
    "        print('사용자에 의해 종료됩니다')\n",
    "        break\n",
    "\n",
    "        \n",
    "cap.release() #자원해제\n",
    "cv2.destroyAllWindows() #모든 창 닫기\n",
    "        "
   ]
  },
  {
   "cell_type": "code",
   "execution_count": null,
   "id": "a51c2dee",
   "metadata": {},
   "outputs": [],
   "source": [
    "import cv2\n",
    "\n",
    "cap = cv2.VideoCapture('video.mp4')\n",
    "\n",
    "while cap.isOpened() : \n",
    "    ret, frame = cap.read()\n",
    "    if not ret : \n",
    "        break\n",
    "        \n",
    "    frame_resize = cv2.resize(frame, (400,500))\n",
    "    cv2.imshow('video',frame_resize)\n",
    "    \n",
    "    if cv2.waitKey(1)==ord('q') : \n",
    "        print('사용자에 의해 종료됩니다')\n",
    "        break\n",
    "\n",
    "        \n",
    "cap.release() #자원해제\n",
    "cv2.destroyAllWindows() #모든 창 닫기"
   ]
  }
 ],
 "metadata": {
  "kernelspec": {
   "display_name": "Python 3 (ipykernel)",
   "language": "python",
   "name": "python3"
  },
  "language_info": {
   "codemirror_mode": {
    "name": "ipython",
    "version": 3
   },
   "file_extension": ".py",
   "mimetype": "text/x-python",
   "name": "python",
   "nbconvert_exporter": "python",
   "pygments_lexer": "ipython3",
   "version": "3.9.13"
  }
 },
 "nbformat": 4,
 "nbformat_minor": 5
}
