{
 "cells": [
  {
   "cell_type": "code",
   "execution_count": 1,
   "id": "f1cdc04e",
   "metadata": {},
   "outputs": [
    {
     "name": "stdout",
     "output_type": "stream",
     "text": [
      "Collecting opencv-python\n",
      "  Downloading opencv_python-4.7.0.72-cp37-abi3-macosx_10_16_x86_64.whl (53.9 MB)\n",
      "\u001b[2K     \u001b[90m━━━━━━━━━━━━━━━━━━━━━━━━━━━━━━━━━━━━━━━━\u001b[0m \u001b[32m53.9/53.9 MB\u001b[0m \u001b[31m2.6 MB/s\u001b[0m eta \u001b[36m0:00:00\u001b[0m00:01\u001b[0m00:01\u001b[0m\n",
      "\u001b[?25hRequirement already satisfied: numpy>=1.19.3 in /Users/sim-yeji/opt/anaconda3/lib/python3.9/site-packages (from opencv-python) (1.21.5)\n",
      "Installing collected packages: opencv-python\n",
      "Successfully installed opencv-python-4.7.0.72\n",
      "Note: you may need to restart the kernel to use updated packages.\n"
     ]
    }
   ],
   "source": [
    "pip install opencv-python\n"
   ]
  },
  {
   "cell_type": "code",
   "execution_count": 5,
   "id": "2fb46d70",
   "metadata": {},
   "outputs": [
    {
     "data": {
      "text/plain": [
       "'4.7.0'"
      ]
     },
     "execution_count": 5,
     "metadata": {},
     "output_type": "execute_result"
    }
   ],
   "source": [
    "import cv2\n",
    "cv2.__version__"
   ]
  },
  {
   "cell_type": "code",
   "execution_count": 9,
   "id": "04ef0d5c",
   "metadata": {},
   "outputs": [
    {
     "name": "stdout",
     "output_type": "stream",
     "text": [
      "97\n"
     ]
    }
   ],
   "source": [
    "img = cv2.imread('img.jpg')\n",
    "cv2.imshow('show', img) #show라는 창에 띄우기\n",
    "key = cv2.waitKey(0) #ms기간동안 사용자 키 입력 대기\n",
    "print(key) # key는 아스타키 a=97\n",
    "cv2.destroyAllWindows() #모든 창닫기"
   ]
  },
  {
   "cell_type": "code",
   "execution_count": 10,
   "id": "3c160a01",
   "metadata": {},
   "outputs": [],
   "source": [
    "img1 = cv2.imread('img.jpg',cv2.IMREAD_COLOR)  #컬러이미지,  투명영역은 무시\n",
    "img2 = cv2.imread('img.jpg',cv2.IMREAD_GRAYSCALE) #회색\n",
    "img3 = cv2.imread('img.jpg',cv2.IMREAD_UNCHANGED) #원본이미지, 투명영역 포함 \n",
    "\n",
    "cv2.imshow('img_color',img1)\n",
    "cv2.imshow('img_gray',img2)\n",
    "cv2.imshow('img_unchanged',img3)\n",
    "\n",
    "cv2.waitKey(0) #ms기간동안 사용자 키 입력 대기\n",
    "cv2.destroyAllWindows()"
   ]
  },
  {
   "cell_type": "code",
   "execution_count": 12,
   "id": "6d318182",
   "metadata": {},
   "outputs": [
    {
     "data": {
      "text/plain": [
       "(391, 640, 3)"
      ]
     },
     "execution_count": 12,
     "metadata": {},
     "output_type": "execute_result"
    }
   ],
   "source": [
    "img = cv2.imread('img.jpg')\n",
    "img.shape #세로hieght, 가로width, channel(사용돤 RGB수) "
   ]
  },
  {
   "cell_type": "code",
   "execution_count": null,
   "id": "ac93de92",
   "metadata": {},
   "outputs": [],
   "source": []
  }
 ],
 "metadata": {
  "kernelspec": {
   "display_name": "Python 3 (ipykernel)",
   "language": "python",
   "name": "python3"
  },
  "language_info": {
   "codemirror_mode": {
    "name": "ipython",
    "version": 3
   },
   "file_extension": ".py",
   "mimetype": "text/x-python",
   "name": "python",
   "nbconvert_exporter": "python",
   "pygments_lexer": "ipython3",
   "version": "3.9.13"
  }
 },
 "nbformat": 4,
 "nbformat_minor": 5
}
