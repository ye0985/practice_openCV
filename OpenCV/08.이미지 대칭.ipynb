{
 "cells": [
  {
   "cell_type": "code",
   "execution_count": 1,
   "id": "2a6f52ec",
   "metadata": {},
   "outputs": [],
   "source": [
    "import cv2\n",
    "img = cv2.imread('img.jpg')\n",
    "\n",
    "#좌우대칭\n",
    "flip_horizontal = cv2.flip(img,1)  #flipCode > 1 좌우대칭\n",
    "\n",
    "#상하대칭\n",
    "flip_vertical = cv2.flip(img,0) # flipCode = 0 상하대칭\n",
    "\n",
    "#상하좌우대칭\n",
    "flip_both = cv2.flip(img,-1)  #flipCode < 1 상하좌우대칭\n",
    "cv2.imshow('show', flip_horizontal) \n",
    "cv2.imshow('show', flip_vertical) \n",
    "key = cv2.waitKey(0)\n",
    "cv2.destroyAllWindows()"
   ]
  },
  {
   "cell_type": "markdown",
   "id": "6e4780e2",
   "metadata": {},
   "source": [
    "## 이미지 회전"
   ]
  },
  {
   "cell_type": "code",
   "execution_count": 1,
   "id": "05beccf0",
   "metadata": {},
   "outputs": [],
   "source": [
    "import cv2\n",
    "img = cv2.imread('img.jpg')\n",
    "\n",
    "#clockwise 90 rotate\n",
    "rotate_90 = cv2.rotate(img,cv2.ROTATE_90_CLOCKWISE) \n",
    "#180 rotate\n",
    "rotate_180 = cv2.rotate(img,cv2.ROTATE_180) \n",
    "#clockwise 270 /counterclockwise 90 rotate\n",
    "rotate_270 = cv2.rotate(img,cv2.ROTATE_90_COUNTERCLOCKWISE) \n",
    "cv2.imshow('rotate_90', rotate_90) \n",
    "cv2.imshow('rotate_180', rotate_180) \n",
    "cv2.imshow('rotate_270', rotate_270) \n",
    "key = cv2.waitKey(0)\n",
    "cv2.destroyAllWindows()"
   ]
  },
  {
   "cell_type": "markdown",
   "id": "b1ce92a3",
   "metadata": {},
   "source": [
    "## 이미지 흑백처리\n"
   ]
  },
  {
   "cell_type": "code",
   "execution_count": 2,
   "id": "1983972d",
   "metadata": {},
   "outputs": [],
   "source": [
    "import cv2\n",
    "img = cv2.imread('img.jpg')\n",
    "\n",
    "dst = cv2.cvtColor(img, cv2.COLOR_BGR2GRAY)\n",
    "\n",
    "cv2.imshow('show', dst) \n",
    "key = cv2.waitKey(0)\n",
    "cv2.destroyAllWindows()"
   ]
  },
  {
   "cell_type": "markdown",
   "id": "b32ccb89",
   "metadata": {},
   "source": [
    "## 이미지 흐림 블러처리"
   ]
  },
  {
   "cell_type": "markdown",
   "id": "d567c628",
   "metadata": {},
   "source": [
    "### 가우시안블러"
   ]
  },
  {
   "cell_type": "code",
   "execution_count": 4,
   "id": "8f2fabf3",
   "metadata": {},
   "outputs": [],
   "source": [
    "#커널 사이즈에 따른 블러 정도\n",
    "import cv2\n",
    "img = cv2.imread('img.jpg')\n",
    "\n",
    "#커널 사이즈 (3,3) (5,5) (7,7) 점점 더 흐려짐\n",
    "kernel_3 = cv2.GaussianBlur(img, (3,3), 0) #0 : 가우시안커널의 x방향의 표준편차\n",
    "kernel_5 = cv2.GaussianBlur(img, (5,5), 0)\n",
    "kernel_7 = cv2.GaussianBlur(img, (7,7), 0)\n",
    "\n",
    "cv2.imshow('kernel_3', kernel_3) \n",
    "cv2.imshow('kernel_5', kernel_5)\n",
    "cv2.imshow('kernel_7', kernel_7)\n",
    "\n",
    "key = cv2.waitKey(0)\n",
    "cv2.destroyAllWindows()"
   ]
  },
  {
   "cell_type": "code",
   "execution_count": null,
   "id": "91857e6b",
   "metadata": {},
   "outputs": [],
   "source": [
    "#표준편차에 따른 변화\n",
    "import cv2\n",
    "img = cv2.imread('img.jpg')\n",
    "\n",
    "#sigma 1,2,3 점점 더 흐려짐\n",
    "sigma_1 = cv2.GaussianBlur(img, (0,0), 1) \n",
    "sigma_2 = cv2.GaussianBlur(img, (0,0), 2)\n",
    "sigma_3 = cv2.GaussianBlur(img, (0,0), 3)\n",
    "\n",
    "cv2.imshow('sigma_1', sigma_1) \n",
    "cv2.imshow('sigma_2', sigma_2)\n",
    "cv2.imshow('sigma_3', sigma_3)\n",
    "\n",
    "key = cv2.waitKey(0)\n",
    "cv2.destroyAllWindows()"
   ]
  },
  {
   "cell_type": "markdown",
   "id": "775c43e1",
   "metadata": {},
   "source": [
    "## 이미지변형 (원근)"
   ]
  },
  {
   "cell_type": "code",
   "execution_count": null,
   "id": "eefe1bdc",
   "metadata": {},
   "outputs": [],
   "source": []
  }
 ],
 "metadata": {
  "kernelspec": {
   "display_name": "Python 3 (ipykernel)",
   "language": "python",
   "name": "python3"
  },
  "language_info": {
   "codemirror_mode": {
    "name": "ipython",
    "version": 3
   },
   "file_extension": ".py",
   "mimetype": "text/x-python",
   "name": "python",
   "nbconvert_exporter": "python",
   "pygments_lexer": "ipython3",
   "version": "3.9.13"
  }
 },
 "nbformat": 4,
 "nbformat_minor": 5
}
