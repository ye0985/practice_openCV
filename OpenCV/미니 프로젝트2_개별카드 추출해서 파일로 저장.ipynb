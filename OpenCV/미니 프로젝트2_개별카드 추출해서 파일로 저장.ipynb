{
 "cells": [
  {
   "cell_type": "code",
   "execution_count": 1,
   "id": "8d81ed80",
   "metadata": {},
   "outputs": [],
   "source": [
    "import cv2\n",
    "\n",
    "img = cv2.imread('card.png')\n",
    "target_img = img.copy() #사본이미지\n",
    "\n",
    "gray = cv2.cvtColor(img, cv2.COLOR_BGR2GRAY) #gray로\n",
    "ret,otsu = cv2.threshold(gray,-1,255,cv2.THRESH_BINARY | cv2.THRESH_OTSU)\n",
    "contours,hierarchy = cv2.findContours(otsu,cv2.RETR_LIST,cv2.CHAIN_APPROX_NONE)\n",
    "\n",
    "color = (0,255,0) #green\n",
    "\n",
    "index = 1\n",
    "for cnt in contours :\n",
    "    # 면적 2500이상인 경계사각형만 찾기\n",
    "    if cv2.contourArea(cnt)>25000:\n",
    "        x,y,width,height = cv2.boundingRect(cnt) \n",
    "        #사각형 그림\n",
    "        cv2.rectangle(target_img,(x,y),(x+width,y+height),color,2)\n",
    "        \n",
    "        crop = img[y:y+height,x:x+width] #세로, 가로 범위 자르기\n",
    "        cv2.imshow(f'card_crop{index}',crop)\n",
    "        cv2.imwrite(f'card_crop{index}.png',crop) #파일로 저장\n",
    "        index += 1\n",
    "\n",
    "cv2.imshow('contours',target_img)\n",
    "\n",
    "\n",
    "cv2.waitKey(0)\n",
    "cv2.destroyAllWindows()"
   ]
  },
  {
   "cell_type": "code",
   "execution_count": null,
   "id": "4bfd9cb4",
   "metadata": {},
   "outputs": [],
   "source": []
  }
 ],
 "metadata": {
  "kernelspec": {
   "display_name": "Python 3 (ipykernel)",
   "language": "python",
   "name": "python3"
  },
  "language_info": {
   "codemirror_mode": {
    "name": "ipython",
    "version": 3
   },
   "file_extension": ".py",
   "mimetype": "text/x-python",
   "name": "python",
   "nbconvert_exporter": "python",
   "pygments_lexer": "ipython3",
   "version": "3.9.13"
  }
 },
 "nbformat": 4,
 "nbformat_minor": 5
}
