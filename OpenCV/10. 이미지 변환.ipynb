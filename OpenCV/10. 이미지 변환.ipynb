{
 "cells": [
  {
   "cell_type": "markdown",
   "id": "5b21efbc",
   "metadata": {},
   "source": [
    "## 팽창(dilate) : 이미지를 확장하여 작은 구멍들을 채움\n",
    "\n",
    "흰색영역의 외곽 픽셀 주변에 흰색을 추가"
   ]
  },
  {
   "cell_type": "code",
   "execution_count": 2,
   "id": "ffe145f4",
   "metadata": {},
   "outputs": [],
   "source": [
    "import cv2\n",
    "import numpy as np\n",
    "\n",
    "#kernel\n",
    "kernel = np.ones((3,3), dtype=np.uint8)\n",
    "\n",
    "img = cv2.imread('dilate.png',cv2.IMREAD_GRAYSCALE)\n",
    "\n",
    "#반복횟수가 커질수록 글자크기가 커지고, 글자속의 빈구멍들이 작아보임 채워져보임\n",
    "dilate1 = cv2.dilate(img, kernel, iterations =1) #반복횟수=1\n",
    "dilate2 = cv2.dilate(img, kernel, iterations =2)\n",
    "dilate3 = cv2.dilate(img, kernel, iterations =3)\n",
    "\n",
    "cv2.imshow('gray',img)\n",
    "cv2.imshow('dilate1',dilate1)\n",
    "cv2.imshow('dilate2',dilate2)\n",
    "cv2.imshow('dilate3',dilate3)\n",
    "cv2.waitKey(0)\n",
    "cv2.destroyAllWindows()"
   ]
  },
  {
   "cell_type": "markdown",
   "id": "72c5eff3",
   "metadata": {},
   "source": [
    "## 침식(erosion) : 이미지를 깍아서 노이즈 제거\n",
    "흰색영역의 외곽 픽셀을 검은색으로 변경"
   ]
  },
  {
   "cell_type": "code",
   "execution_count": 3,
   "id": "4b1f67cc",
   "metadata": {},
   "outputs": [],
   "source": [
    "import cv2\n",
    "import numpy as np\n",
    "\n",
    "#kernel\n",
    "kernel = np.ones((3,3), dtype=np.uint8)\n",
    "\n",
    "img = cv2.imread('erode.png',cv2.IMREAD_GRAYSCALE)\n",
    "\n",
    "#반복횟수가 커질수록 외곽부분이 커지고, 글자크기가 얇아짐, 외곽부분의 빈구멍들이 작아보임 채워져보임\n",
    "erode1 = cv2.erode(img, kernel, iterations =1) #반복횟수=1\n",
    "erode2 = cv2.erode(img, kernel, iterations =2)\n",
    "erode3 = cv2.erode(img, kernel, iterations =3)\n",
    "\n",
    "cv2.imshow('gray',img)\n",
    "cv2.imshow('erode1',erode1)\n",
    "cv2.imshow('erode2',erode2)\n",
    "cv2.imshow('erode3',erode3)\n",
    "cv2.waitKey(0)\n",
    "cv2.destroyAllWindows()"
   ]
  },
  {
   "cell_type": "markdown",
   "id": "b8dcc25e",
   "metadata": {},
   "source": [
    "## 열림, 닫힘 "
   ]
  },
  {
   "cell_type": "markdown",
   "id": "b8dce303",
   "metadata": {},
   "source": [
    "### 열림(opening): 침식 후 팽창 , 깍아서 노이즈 제거후 글자크게\n",
    "dilate(erode(img))"
   ]
  },
  {
   "cell_type": "code",
   "execution_count": 5,
   "id": "b15c4bc8",
   "metadata": {},
   "outputs": [],
   "source": [
    "import cv2\n",
    "import numpy as np\n",
    "\n",
    "#kernel\n",
    "kernel = np.ones((3,3), dtype=np.uint8)\n",
    "\n",
    "img = cv2.imread('erode.png',cv2.IMREAD_GRAYSCALE)\n",
    "\n",
    "erode = cv2.erode(img, kernel, iterations =3)\n",
    "dilate = cv2.dilate(erode, kernel, iterations=3)\n",
    "\n",
    "cv2.imshow('gray',img)\n",
    "cv2.imshow('erode',erode)\n",
    "cv2.imshow('dilate',dilate)\n",
    "\n",
    "cv2.waitKey(0)\n",
    "cv2.destroyAllWindows()"
   ]
  },
  {
   "cell_type": "markdown",
   "id": "c27cebdc",
   "metadata": {},
   "source": [
    "### 닫힘(closing): 팽창 후 침식, 구멍을 메꾼 후 다시 글자깍기\n",
    "erode(dilate(img))"
   ]
  },
  {
   "cell_type": "code",
   "execution_count": null,
   "id": "802e9e01",
   "metadata": {},
   "outputs": [],
   "source": [
    "import cv2\n",
    "import numpy as np\n",
    "\n",
    "#kernel\n",
    "kernel = np.ones((3,3), dtype=np.uint8)\n",
    "\n",
    "img = cv2.imread('dilate.png',cv2.IMREAD_GRAYSCALE)\n",
    "\n",
    "dilate = cv2.dilate(img, kernel, iterations=3)\n",
    "erode = cv2.erode(dilate, kernel, iterations =3)\n",
    "\n",
    "cv2.imshow('gray',img)\n",
    "cv2.imshow('dilate',dilate)\n",
    "cv2.imshow('erode',erode)\n",
    "\n",
    "cv2.waitKey(0)\n",
    "cv2.destroyAllWindows()"
   ]
  },
  {
   "cell_type": "code",
   "execution_count": null,
   "id": "93f08aee",
   "metadata": {},
   "outputs": [],
   "source": []
  }
 ],
 "metadata": {
  "kernelspec": {
   "display_name": "Python 3 (ipykernel)",
   "language": "python",
   "name": "python3"
  },
  "language_info": {
   "codemirror_mode": {
    "name": "ipython",
    "version": 3
   },
   "file_extension": ".py",
   "mimetype": "text/x-python",
   "name": "python",
   "nbconvert_exporter": "python",
   "pygments_lexer": "ipython3",
   "version": "3.9.13"
  }
 },
 "nbformat": 4,
 "nbformat_minor": 5
}
