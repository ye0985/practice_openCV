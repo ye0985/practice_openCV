{
 "cells": [
  {
   "cell_type": "code",
   "execution_count": 3,
   "id": "4554d5ad",
   "metadata": {},
   "outputs": [
    {
     "name": "stdout",
     "output_type": "stream",
     "text": [
      "True\n"
     ]
    }
   ],
   "source": [
    "#이미지 저장\n",
    "\n",
    "import cv2\n",
    "\n",
    "img = cv2.imread('img.jpg', cv2.IMREAD_GRAYSCALE)\n",
    "cv2.imshow('img',img)\n",
    "cv2.waitKey(5)\n",
    "cv2.destroyAllWindows()\n",
    "\n",
    "result = cv2.imwrite('img_save.jpg',img)#저장\n",
    "print(result)"
   ]
  },
  {
   "cell_type": "code",
   "execution_count": 4,
   "id": "cb3b73b3",
   "metadata": {},
   "outputs": [],
   "source": [
    "#저장 포맷 jpg,png\n",
    "img = cv2.imread('img.jpg', cv2.IMREAD_GRAYSCALE)\n",
    "result = cv2.imwrite('img_save.png',img)"
   ]
  },
  {
   "cell_type": "code",
   "execution_count": 6,
   "id": "1e73c818",
   "metadata": {},
   "outputs": [],
   "source": [
    "#동영상 저장\n",
    "cap = cv2.VideoCapture('video.mp4')\n",
    "\n",
    "#코덱 정의\n",
    "fourcc = cv2.VideoWriter_fourcc(*'DIVX')\n",
    "\n",
    "#속도 fps, 프레임크기\n",
    "fps = cap.get(cv2.CAP_PROP_FPS) # 속도 fps\n",
    "width = round(cap.get(cv2.CAP_PROP_FRAME_WIDTH))\n",
    "height= round(cap.get(cv2.CAP_PROP_FRAME_HEIGHT))\n",
    "\n",
    "#저장 파일명, 코덱, fps, 크기\n",
    "out = cv2.VideoWriter('output.avi',fourcc,fps,(width,height))\n",
    "\n",
    "while cap.isOpened():\n",
    "    ret, frame = cap.read()\n",
    "    \n",
    "    if not ret : \n",
    "        break\n",
    "    out.write(frame) #영상데이터만 저장 소리x    \n",
    "    cv2.imshow('video',frame)\n",
    "    if cv2.waitKey(1)==ord('q'):\n",
    "        break\n",
    "out.release() #자원 해제         \n",
    "cap.release()\n",
    "cv2.destroyAllWindows()"
   ]
  },
  {
   "cell_type": "code",
   "execution_count": null,
   "id": "0eafd7b8",
   "metadata": {},
   "outputs": [],
   "source": []
  }
 ],
 "metadata": {
  "kernelspec": {
   "display_name": "Python 3 (ipykernel)",
   "language": "python",
   "name": "python3"
  },
  "language_info": {
   "codemirror_mode": {
    "name": "ipython",
    "version": 3
   },
   "file_extension": ".py",
   "mimetype": "text/x-python",
   "name": "python",
   "nbconvert_exporter": "python",
   "pygments_lexer": "ipython3",
   "version": "3.9.13"
  }
 },
 "nbformat": 4,
 "nbformat_minor": 5
}
